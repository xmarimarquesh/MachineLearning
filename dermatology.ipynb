import numpy as np
import pandas as pd
from sklearn.model_selection import train_test_split, GridSearchCV
from sklearn.svm import SVC
from sklearn.tree import DecisionTreeClassifier
from joblib import dump
import matplotlib.pyplot as plt
from sklearn.metrics import accuracy_score, precision_score, recall_score, confusion_matrix, balanced_accuracy_score
import seaborn as sns

df = pd.read_csv('/datasets/dermatology_database_1.csv')

# df.dtypes

Y = df["class"]
X = df.drop(["class", "age"], axis=1)

X_train, X_test, Y_train, Y_test = train_test_split(X, Y, test_size=0.15,random_state=42)

# MODELOS DE TREINAMENTO DE CLASSIFICAÇÃO

#SVM
# param_grid = {
#     'C': [100],
#     'kernel': ['rbf'], 
#     'gamma': [0.004] 
# }
# model = GridSearchCV(SVC(), param_grid, n_jobs=4, cv=5)

# DECISIONTREECLASSIFIER
param_grid = {
    'max_depth': [5, 8, 10, 15], #profundidade máxima
    'min_samples_split': [5, 8, 10, 15], #número mínimo para dividir
    'min_samples_leaf': [2, 3, 5, 8] #número mínimo de um nó
}
model = GridSearchCV(DecisionTreeClassifier(random_state=42), param_grid, n_jobs=4, cv=5)

model.fit(X_train, Y_train)

print("Melhores parâmetros encontrados:", model.best_params_)

model = model.best_estimator_

Ypred_train = model.predict(X_train)
Ypred_test = model.predict(X_test)

print(f"Accuracy (Treinamento): {accuracy_score(Y_train, Ypred_train)}")
print(f"Accuracy (Teste): {accuracy_score(Y_test, Ypred_test)}")

print(f"Precision (Teste): {precision_score(Y_test, Ypred_test, average='macro')}")
print(f"Recall (Teste): {recall_score(Y_test, Ypred_test, average='macro')}")
print(f"Balanced Accuracy (Teste): {balanced_accuracy_score(Y_test, Ypred_test)}")

# Matriz de Confusão
cm = confusion_matrix(Y_test, Ypred_test)
sns.heatmap(cm, annot=True, fmt='d', cmap='Blues', xticklabels=model.classes_, yticklabels=model.classes_)
plt.xlabel('Previsões')
plt.ylabel('Valores Reais')
plt.title('Matriz de Confusão')
plt.show()

# Gráfico de dispersão para comparar valores reais e previstos
plt.scatter(range(len(Y_test)), Y_test, label='Valores reais', alpha=0.5, color='blue')
plt.scatter(range(len(Ypred_test)), Ypred_test, label='Valores previstos', alpha=0.5, color='red')
plt.legend()
plt.show()

# Valores reais e previstos
print("Valores reais:\n", Y_test.value_counts())
print("Valores previstos:\n", pd.Series(Ypred_test).value_counts())

# Salvar o modelo treinado
dump(model, 'svm_model.pkl')

