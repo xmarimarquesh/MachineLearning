import numpy as np
import pandas as pd
from sklearn.preprocessing import LabelEncoder, StandardScaler
from sklearn.svm import SVR
from sklearn.model_selection import train_test_split, GridSearchCV
from joblib import dump
import matplotlib.pyplot as plt
from sklearn.linear_model import ElasticNet
from sklearn.tree import DecisionTreeRegressor
from sklearn.metrics import mean_absolute_error

df = pd.read_csv('/kaggle/input/california-wildfire-damage-2014-feb2025/California Wildfire Damage.csv')

le = LabelEncoder()
df['Location'] = le.fit_transform(df['Location'])
df['Cause'] = le.fit_transform(df['Cause'])

Y = df["Estimated_Financial_Loss (Million $)"]
X = df.drop(["Estimated_Financial_Loss (Million $)", "Date", "Incident_ID"], axis=1)

scaler = StandardScaler()
X = scaler.fit_transform(X)

X_train, X_test, Y_train, Y_test = train_test_split(X, Y, test_size=0.15, random_state=42)

# scores = cross_val_score(ElasticNet(fit_intercept = True), X, Y, cv = 8)
# print(scores)

# pca = PCA(n_components = 7)
# pca.fit(X)
# X = pca.transform(X)

# MODELOS PARA REGRESSÃO

#SVR
# param_grid = {
#     'C': [0.1, 1, 10, 100], #Parâmetro de Regularização
#     'epsilon': [0.01, 0.1, 0.5, 1], #Margem de Tolerância
#     'kernel': ['linear', 'rbf', 'poly'] #Tipo de Função do Kernel
# }
# model = GridSearchCV(SVR(), param_grid, n_jobs=4, cv=5)

# DECISIONTREEREGRESSOR
param_grid = {
    'max_depth': [10, 15], #profundidade máxima
    'min_samples_split': [10, 15, 5], #número mínimo para dividir
    'min_samples_leaf': [5, 8] #número mínimo de um nó
}
model = GridSearchCV(DecisionTreeRegressor(random_state=42), param_grid, n_jobs=4, cv=5)

# ELASTICNET
# model = GridSearchCV(
#     ElasticNet(fit_intercept = True),
#     {
#         'alpha': list(map(lambda x: x / 10, range(1, 10))),
#         'l1_ratio': list(map(lambda x: x / 10, range(1, 10))),
#     },
#     n_jobs = 4
# )
model.fit(X_train, Y_train)

print("Melhores parâmetros:", model.best_params_)
model = model.best_estimator_

dump(model, 'model.pkl')

print(mean_absolute_error(Y_train, model.predict(X_train)))
print(mean_absolute_error(Y_test, model.predict(X_test)))

Ypred = model.predict(X)
plt.plot(Y)
plt.plot(Ypred)
plt.show()
