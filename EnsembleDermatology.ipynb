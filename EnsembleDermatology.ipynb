import numpy as np
import pandas as pd
from sklearn.model_selection import train_test_split, GridSearchCV
from sklearn.ensemble import RandomForestClassifier, GradientBoostingClassifier
from sklearn.metrics import accuracy_score, precision_score, recall_score, confusion_matrix, balanced_accuracy_score
import matplotlib.pyplot as plt
import seaborn as sns
from joblib import dump

df = pd.read_csv('/kaggle/input/dermatology-dataset-classification/dermatology_database_1.csv')

Y = df["class"]
X = df.drop(["class", "age"], axis=1)

X_train, X_test, Y_train, Y_test = train_test_split(X, Y, test_size=0.15, random_state=42)

# Random Forest
rf_param_grid = {
    'n_estimators': [100, 200],
    'max_depth': [10, 15],
    'min_samples_split': [5, 10],
    'min_samples_leaf': [2, 5]
}
rf_model = GridSearchCV(RandomForestClassifier(random_state=42), rf_param_grid, n_jobs=4, cv=5)
rf_model.fit(X_train, Y_train)
print("Melhores parâmetros (Random Forest):", rf_model.best_params_)
rf_model = rf_model.best_estimator_

# Gradient Boosting
gb_param_grid = {
    'n_estimators': [100, 200],
    'learning_rate': [0.01, 0.1],
    'max_depth': [3, 5]
}
gb_model = GridSearchCV(GradientBoostingClassifier(random_state=42), gb_param_grid, n_jobs=4, cv=5)
gb_model.fit(X_train, Y_train)
print("Melhores parâmetros (Gradient Boosting):", gb_model.best_params_)
gb_model = gb_model.best_estimator_

# Predições
def evaluate_model(model, name):
    Ypred_test = model.predict(X_test)
    print(f"\n{name} Metrics:")
    print(f"Accuracy: {accuracy_score(Y_test, Ypred_test)}")
    print(f"Precision: {precision_score(Y_test, Ypred_test, average='macro')}")
    print(f"Recall: {recall_score(Y_test, Ypred_test, average='macro')}")
    print(f"Balanced Accuracy: {balanced_accuracy_score(Y_test, Ypred_test)}")
    
    # Matriz de Confusão
    cm = confusion_matrix(Y_test, Ypred_test)
    sns.heatmap(cm, annot=True, fmt='d', cmap='Purples', xticklabels=model.classes_, yticklabels=model.classes_)
    plt.xlabel('Previsões')
    plt.ylabel('Valores Reais')
    plt.title(f'Matriz de Confusão - {name}')
    plt.show()

# Avaliação dos modelos
evaluate_model(rf_model, "Random Forest")
evaluate_model(gb_model, "Gradient Boosting")

# Salvar modelos
dump(rf_model, 'random_forest_model.pkl')
dump(gb_model, 'gradient_boosting_model.pkl')
